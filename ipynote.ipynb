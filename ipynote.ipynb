{
 "cells": [
  {
   "cell_type": "code",
   "execution_count": 1,
   "metadata": {
    "collapsed": false
   },
   "outputs": [],
   "source": [
    "import json\n",
    "from bs4 import BeautifulSoup\n",
    "from queryarticles import QueryArticle, QueryArticleLoop, ensure_dir\n",
    "from collectarchive import NYTmetaquery, UrlRequest\n"
   ]
  },
  {
   "cell_type": "markdown",
   "metadata": {},
   "source": [
    "First we need to a pull a bunch of .json metadata files form NYT:"
   ]
  },
  {
   "cell_type": "code",
   "execution_count": null,
   "metadata": {
    "collapsed": false,
    "scrolled": true
   },
   "outputs": [
    {
     "name": "stdout",
     "output_type": "stream",
     "text": [
      "[1987, 1]\n",
      "https://www.nytimes.com/1987/01/20/nyregion/quotations-of-the-day-310387.html\n",
      "quotations-of-the-day-310387.html\n",
      "https://www.nytimes.com/1987/01/20/sports/super-bowl-xxi-preparations-begin-not-so-modestly-mcconkey-excels.html\n",
      "super-bowl-xxi-preparations-begin-not-so-modestly-mcconkey-excels.html\n",
      "https://www.nytimes.com/1987/01/20/business/eagle-bancshares-reports-earnings-for-qtr-to-dec-31.html\n",
      "eagle-bancshares-reports-earnings-for-qtr-to-dec-31.html\n",
      "https://www.nytimes.com/1987/01/20/world/1000-chinese-in-us-endorse-a-protest.html\n",
      "1000-chinese-in-us-endorse-a-protest.html\n",
      "https://www.nytimes.com/1987/01/20/opinion/l-selling-amtrak-northeast-line-is-still-a-bad-idea-122787.html\n",
      "l-selling-amtrak-northeast-line-is-still-a-bad-idea-122787.html\n",
      "https://www.nytimes.com/1987/01/20/business/company-news-k-car-package-set-by-chrysler.html\n",
      "company-news-k-car-package-set-by-chrysler.html\n",
      "https://www.nytimes.com/1987/01/20/business/company-news-digital-to-offer-mainframes.html\n",
      "company-news-digital-to-offer-mainframes.html\n",
      "https://www.nytimes.com/1987/01/20/business/california-amplifier-reports-earnings-for-qtr-to-nov-30.html\n",
      "california-amplifier-reports-earnings-for-qtr-to-nov-30.html\n"
     ]
    }
   ],
   "source": [
    "QueryArticleLoop(\"198701\", \"199706\")"
   ]
  },
  {
   "cell_type": "markdown",
   "metadata": {
    "collapsed": true
   },
   "source": [
    "We want to know which articles have to be added to the training set. So we list a bunch of links in a certain year/month to see how they look like:"
   ]
  },
  {
   "cell_type": "markdown",
   "metadata": {
    "collapsed": true
   },
   "source": [
    "You can also test your functions here. For example, I want to test my function ensure_dir() to see if adds the archive/fullarticles folders properly:"
   ]
  },
  {
   "cell_type": "code",
   "execution_count": null,
   "metadata": {
    "collapsed": false
   },
   "outputs": [],
   "source": [
    "ensure_dir(\"./archive/\")"
   ]
  },
  {
   "cell_type": "code",
   "execution_count": 5,
   "metadata": {
    "collapsed": true
   },
   "outputs": [],
   "source": [
    "r = UrlRequest(\"https://www.nytimes.com/1987/01/18/style/wedding-planned-by-miss-hamlin-officer-of-a-bank.html\")"
   ]
  },
  {
   "cell_type": "code",
   "execution_count": 11,
   "metadata": {
    "collapsed": false
   },
   "outputs": [
    {
     "data": {
      "text/plain": [
       "False"
      ]
     },
     "execution_count": 11,
     "metadata": {},
     "output_type": "execute_result"
    }
   ],
   "source": [
    "r!=404 and r!=410"
   ]
  },
  {
   "cell_type": "code",
   "execution_count": null,
   "metadata": {
    "collapsed": true
   },
   "outputs": [],
   "source": []
  }
 ],
 "metadata": {
  "kernelspec": {
   "display_name": "Python 3",
   "language": "python",
   "name": "python3"
  },
  "language_info": {
   "codemirror_mode": {
    "name": "ipython",
    "version": 3
   },
   "file_extension": ".py",
   "mimetype": "text/x-python",
   "name": "python",
   "nbconvert_exporter": "python",
   "pygments_lexer": "ipython3",
   "version": "3.5.1"
  }
 },
 "nbformat": 4,
 "nbformat_minor": 1
}
