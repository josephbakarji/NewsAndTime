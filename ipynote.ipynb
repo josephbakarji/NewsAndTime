{
 "cells": [
  {
   "cell_type": "code",
   "execution_count": 1,
   "metadata": {
    "collapsed": false
   },
   "outputs": [],
   "source": [
    "import json\n",
    "from bs4 import BeautifulSoup\n",
    "from queryarticles import QueryArticle, QueryArticleLoop, ensure_dir\n",
    "from collectarchive import NYTmetaquery\n"
   ]
  },
  {
   "cell_type": "markdown",
   "metadata": {},
   "source": [
    "First we need to a pull a bunch of .json metadata files form NYT:"
   ]
  },
  {
   "cell_type": "code",
   "execution_count": null,
   "metadata": {
    "collapsed": false,
    "scrolled": true
   },
   "outputs": [
    {
     "name": "stdout",
     "output_type": "stream",
     "text": [
      "198701\n",
      "[1987, 1]\n",
      "[1987, 1]\n",
      "https://www.nytimes.com/1987/01/01/us/us-lifts-obstacle-to-road-leading-to-carter-complex.html\n",
      "us-lifts-obstacle-to-road-leading-to-carter-complex.html\n",
      "https://www.nytimes.com/1987/01/01/business/aar-corp-reports-earnings-for-qtr-to-nov-30.html\n",
      "aar-corp-reports-earnings-for-qtr-to-nov-30.html\n",
      "https://www.nytimes.com/1987/01/01/business/visiontech-inc-reports-earnings-for-year-to-oct-24.html\n",
      "visiontech-inc-reports-earnings-for-year-to-oct-24.html\n",
      "https://www.nytimes.com/1987/01/01/business/1986-s-charitable-tax-rush.html\n",
      "1986-s-charitable-tax-rush.html\n",
      "https://www.nytimes.com/1987/01/01/business/company-news-hearst-gets-esquire-magazine.html\n",
      "company-news-hearst-gets-esquire-magazine.html\n",
      "https://www.nytimes.com/1987/01/01/business/damson-oil-reports-earnings-for-qtr-to-sept-30.html\n",
      "damson-oil-reports-earnings-for-qtr-to-sept-30.html\n",
      "https://www.nytimes.com/1987/01/01/opinion/l-was-it-just-a-scheme-to-pay-for-the-contras-700387.html\n",
      "l-was-it-just-a-scheme-to-pay-for-the-contras-700387.html\n",
      "https://www.nytimes.com/1987/01/01/world/gorbachev-tells-soviet-on-new-year-a-threat-of-war-persists.html\n",
      "gorbachev-tells-soviet-on-new-year-a-threat-of-war-persists.html\n",
      "https://www.nytimes.com/1987/01/01/business/united-savings-assn-reports-earnings-for-qtr-to-sept-30.html\n",
      "united-savings-assn-reports-earnings-for-qtr-to-sept-30.html\n",
      "https://www.nytimes.com/1987/01/01/nyregion/25-of-key-legislators-miss-mass-transit-vote.html\n",
      "25-of-key-legislators-miss-mass-transit-vote.html\n",
      "https://www.nytimes.com/1987/01/01/business/company-news-american-petrofina-under-investigation.html\n",
      "company-news-american-petrofina-under-investigation.html\n",
      "https://www.nytimes.com/1987/01/01/sports/college-football-final-kick-wins-for-virginia-tech.html\n",
      "college-football-final-kick-wins-for-virginia-tech.html\n",
      "https://www.nytimes.com/1987/01/01/garden/q-a-488187.html\n",
      "q-a-488187.html\n",
      "https://www.nytimes.com/1987/01/01/obituaries/john-harbeson-98-architect-and-monuments-consultant.html\n",
      "john-harbeson-98-architect-and-monuments-consultant.html\n",
      "https://www.nytimes.com/1987/01/01/business/lumber-pact-with-us-is-criticized-in-canada.html\n",
      "lumber-pact-with-us-is-criticized-in-canada.html\n",
      "https://www.nytimes.com/1987/01/01/obituaries/richard-dougherty-65-dies-museum-official-and-author.html\n",
      "richard-dougherty-65-dies-museum-official-and-author.html\n",
      "https://www.nytimes.com/1987/01/01/us/police-officers-lose-bias-award.html\n",
      "police-officers-lose-bias-award.html\n",
      "https://www.nytimes.com/1987/01/01/nyregion/three-two-one.html\n",
      "three-two-one.html\n",
      "https://www.nytimes.com/1987/01/01/sports/nfl-playoffs-golic-is-strong-point-for-browns.html\n",
      "nfl-playoffs-golic-is-strong-point-for-browns.html\n",
      "https://www.nytimes.com/1987/01/01/business/certron-corp-reports-earnings-for-year-to-oct-31.html\n",
      "certron-corp-reports-earnings-for-year-to-oct-31.html\n",
      "https://www.nytimes.com/1987/01/01/business/ziyad-inc-reports-earnings-for-qtr-to-nov-30.html\n",
      "ziyad-inc-reports-earnings-for-qtr-to-nov-30.html\n",
      "https://www.nytimes.com/1987/01/01/arts/belgian-dancers-protest-dismissal-of-valery-panov.html\n",
      "belgian-dancers-protest-dismissal-of-valery-panov.html\n",
      "https://www.nytimes.com/1987/01/01/business/credit-markets-long-term-bond-prices-fall.html\n",
      "credit-markets-long-term-bond-prices-fall.html\n",
      "https://www.nytimes.com/1987/01/01/business/company-news-macy-s-stores-to-open-today.html\n",
      "company-news-macy-s-stores-to-open-today.html\n",
      "https://www.nytimes.com/1987/01/01/garden/report-analyzes-increased-costs-of-telephone-bills.html\n",
      "report-analyzes-increased-costs-of-telephone-bills.html\n",
      "https://www.nytimes.com/1987/01/01/us/gunfire-hits-jet-near-north-carolina-airport.html\n",
      "gunfire-hits-jet-near-north-carolina-airport.html\n",
      "https://www.nytimes.com/1987/01/01/business/commercial-metals-reports-earnings-for-qtr-to-nov-30.html\n",
      "commercial-metals-reports-earnings-for-qtr-to-nov-30.html\n",
      "https://www.nytimes.com/1987/01/01/business/csp-inc-reports-earnings-for-qtr-to-nov-30.html\n",
      "csp-inc-reports-earnings-for-qtr-to-nov-30.html\n",
      "https://www.nytimes.com/1987/01/01/arts/music-leinsdorf-leads-philharmonic-program.html\n",
      "music-leinsdorf-leads-philharmonic-program.html\n",
      "https://www.nytimes.com/1987/01/01/us/court-throws-out-contempt-ruling-against-paper.html\n",
      "court-throws-out-contempt-ruling-against-paper.html\n",
      "https://www.nytimes.com/1987/01/01/opinion/the-editorial-notebook-naming-you-know-what.html\n",
      "the-editorial-notebook-naming-you-know-what.html\n",
      "https://www.nytimes.com/1987/01/01/sports/sports-people-76ers-get-colter.html\n",
      "sports-people-76ers-get-colter.html\n",
      "https://www.nytimes.com/1987/01/01/world/1019-sandinista-soldiers-reported-killed-during-86.html\n",
      "1019-sandinista-soldiers-reported-killed-during-86.html\n",
      "https://www.nytimes.com/1987/01/01/world/shultz-to-press-congress-for-increase-in-current-foreign-aid-budget.html\n",
      "shultz-to-press-congress-for-increase-in-current-foreign-aid-budget.html\n",
      "https://www.nytimes.com/1987/01/01/nyregion/hassidic-man-hurt-in-a-racial-attack-last-summer-dies.html\n",
      "hassidic-man-hurt-in-a-racial-attack-last-summer-dies.html\n",
      "https://www.nytimes.com/1987/01/01/opinion/good-counsel-for-new-york-city.html\n",
      "good-counsel-for-new-york-city.html\n",
      "https://www.nytimes.com/1987/01/01/nyregion/column-one-clean-air-us-presses-city-to-cut-pollutants.html\n",
      "column-one-clean-air-us-presses-city-to-cut-pollutants.html\n",
      "https://www.nytimes.com/1987/01/01/sports/hill-is-achieving-goals-for-knicks.html\n",
      "hill-is-achieving-goals-for-knicks.html\n",
      "https://www.nytimes.com/1987/01/01/business/wings-west-airlines-reports-earnings-for-qtr-to-oct-31.html\n",
      "wings-west-airlines-reports-earnings-for-qtr-to-oct-31.html\n",
      "https://www.nytimes.com/1987/01/01/business/wtc-international-reports-earnings-for-qtr-to-nov-30.html\n",
      "wtc-international-reports-earnings-for-qtr-to-nov-30.html\n",
      "https://www.nytimes.com/1987/01/01/garden/furniture-sales-off-knoll-is-regrouping.html\n",
      "furniture-sales-off-knoll-is-regrouping.html\n",
      "https://www.nytimes.com/1987/01/01/sports/sports-people-carlos-held.html\n",
      "sports-people-carlos-held.html\n",
      "https://www.nytimes.com/1987/01/01/arts/going-out-guide.html\n",
      "going-out-guide.html\n",
      "https://www.nytimes.com/1987/01/01/business/first-chicago-to-buy-delaware-bank.html\n",
      "first-chicago-to-buy-delaware-bank.html\n",
      "https://www.nytimes.com/1987/01/01/nyregion/quotation-of-the-day-680887.html\n",
      "quotation-of-the-day-680887.html\n",
      "https://www.nytimes.com/1987/01/01/business/tranzonic-cos-reports-earnings-for-qtr-to-nov-30.html\n",
      "tranzonic-cos-reports-earnings-for-qtr-to-nov-30.html\n",
      "https://www.nytimes.com/1987/01/01/garden/new-look-for-historic-houses-accuracy-replaces-idealism.html\n",
      "new-look-for-historic-houses-accuracy-replaces-idealism.html\n",
      "https://www.nytimes.com/1987/01/01/nyregion/23-black-leaders-and-koch-attack-pervasive-racism.html\n",
      "23-black-leaders-and-koch-attack-pervasive-racism.html\n",
      "https://www.nytimes.com/1987/01/01/business/zzzz-best-co-reports-earnings-for-qtr-to-oct-31.html\n",
      "zzzz-best-co-reports-earnings-for-qtr-to-oct-31.html\n"
     ]
    }
   ],
   "source": [
    "QueryArticleLoop(\"198701\", \"199706\")"
   ]
  },
  {
   "cell_type": "markdown",
   "metadata": {
    "collapsed": true
   },
   "source": [
    "We want to know which articles have to be added to the training set. So we list a bunch of links in a certain year/month to see how they look like:"
   ]
  },
  {
   "cell_type": "code",
   "execution_count": 11,
   "metadata": {
    "collapsed": false
   },
   "outputs": [
    {
     "name": "stdout",
     "output_type": "stream",
     "text": [
      "https://www.nytimes.com/1995/05/01/us/terror-in-oklahoma-in-michigan-in-decker-neighbors-lend-a-hand.html\n",
      "terror-in-oklahoma-in-michigan-in-decker-neighbors-lend-a-hand.html\n",
      "https://www.nytimes.com/1995/05/01/nyregion/c-corrections-572595.html\n",
      "c-corrections-572595.html\n",
      "https://www.nytimes.com/1995/05/01/business/business-digest-537795.html\n",
      "business-digest-537795.html\n",
      "https://www.nytimes.com/1995/05/01/nyregion/pulse-tort-cases.html\n",
      "pulse-tort-cases.html\n",
      "https://www.nytimes.com/1995/05/01/nyregion/slain-bronx-businessman-mourned-by-community.html\n",
      "slain-bronx-businessman-mourned-by-community.html\n",
      "https://www.nytimes.com/1995/05/01/sports/baseball-yankees-perfect-start-quickly-unravels.html\n",
      "baseball-yankees-perfect-start-quickly-unravels.html\n",
      "https://www.nytimes.com/1995/05/01/opinion/faces.html\n",
      "faces.html\n",
      "https://www.nytimes.com/1995/05/01/sports/baseball-top-draft-pick-out-for-season.html\n",
      "baseball-top-draft-pick-out-for-season.html\n",
      "https://www.nytimes.com/1995/05/01/business/us-can-corp-uscnnnm-reports-earnings-for-qtr-to-apr-2.html\n",
      "us-can-corp-uscnnnm-reports-earnings-for-qtr-to-apr-2.html\n",
      "https://www.nytimes.com/1995/05/01/opinion/l-soviet-archives-mislead-on-us-journalist-rehabilitate-stalin-582295.html\n",
      "l-soviet-archives-mislead-on-us-journalist-rehabilitate-stalin-582295.html\n",
      "https://www.nytimes.com/1995/05/01/business/an-eclipse-for-the-group-of-seven.html\n",
      "an-eclipse-for-the-group-of-seven.html\n",
      "https://www.nytimes.com/1995/05/01/arts/dance-making-giselle-into-something-new.html\n",
      "dance-making-giselle-into-something-new.html\n",
      "https://www.nytimes.com/1995/05/01/business/midwest-resources-inc-mwrn-reports-earnings-for-qtr-to-mar-31.html\n",
      "midwest-resources-inc-mwrn-reports-earnings-for-qtr-to-mar-31.html\n",
      "https://www.nytimes.com/1995/05/01/nyregion/c-corrections-573395.html\n",
      "c-corrections-573395.html\n",
      "https://www.nytimes.com/1995/05/01/nyregion/housing-police-folded-into-citywide-force.html\n",
      "housing-police-folded-into-citywide-force.html\n",
      "https://www.nytimes.com/1995/05/01/nyregion/new-jersey-daily-briefing-kean-tuition-cost-is-rising.html\n",
      "new-jersey-daily-briefing-kean-tuition-cost-is-rising.html\n",
      "https://www.nytimes.com/1995/05/01/sports/golf-skinner-heeds-a-wake-up-call-at-18.html\n",
      "golf-skinner-heeds-a-wake-up-call-at-18.html\n",
      "https://www.nytimes.com/1995/05/01/nyregion/new-jersey-daily-briefing-beaches-cleaner-without-mao.html\n",
      "new-jersey-daily-briefing-beaches-cleaner-without-mao.html\n",
      "https://www.nytimes.com/1995/05/01/arts/in-performance-pop-567995.html\n"
     ]
    },
    {
     "ename": "KeyboardInterrupt",
     "evalue": "",
     "output_type": "error",
     "traceback": [
      "\u001b[0;31m---------------------------------------------------------------------------\u001b[0m",
      "\u001b[0;31mKeyboardInterrupt\u001b[0m                         Traceback (most recent call last)",
      "\u001b[0;32m<ipython-input-11-47485fc0a24e>\u001b[0m in \u001b[0;36m<module>\u001b[0;34m()\u001b[0m\n\u001b[0;32m----> 1\u001b[0;31m \u001b[0mQueryArticle\u001b[0m\u001b[0;34m(\u001b[0m\u001b[0;34m\"199505\"\u001b[0m\u001b[0;34m)\u001b[0m\u001b[0;34m\u001b[0m\u001b[0m\n\u001b[0m",
      "\u001b[0;32m/Users/josephbakarji/Documents/Stanford/Courses/CS229 - Machine Learning/project/gitrepo/queryarticles.py\u001b[0m in \u001b[0;36mQueryArticle\u001b[0;34m(date)\u001b[0m\n\u001b[1;32m     60\u001b[0m                 \u001b[0mprint\u001b[0m\u001b[0;34m(\u001b[0m\u001b[0murl\u001b[0m\u001b[0;34m)\u001b[0m\u001b[0;34m\u001b[0m\u001b[0m\n\u001b[1;32m     61\u001b[0m                 \u001b[0;32mif\u001b[0m\u001b[0;34m(\u001b[0m\u001b[0murl\u001b[0m\u001b[0;34m.\u001b[0m\u001b[0msplit\u001b[0m\u001b[0;34m(\u001b[0m\u001b[0;34m\".\"\u001b[0m\u001b[0;34m)\u001b[0m\u001b[0;34m[\u001b[0m\u001b[0;34m-\u001b[0m\u001b[0;36m1\u001b[0m\u001b[0;34m]\u001b[0m \u001b[0;34m==\u001b[0m \u001b[0;34m\"html\"\u001b[0m\u001b[0;34m)\u001b[0m\u001b[0;34m:\u001b[0m               \u001b[0;31m# This condition needs to be changed (many articles are not .html)\u001b[0m\u001b[0;34m\u001b[0m\u001b[0m\n\u001b[0;32m---> 62\u001b[0;31m                         \u001b[0mfull_page\u001b[0m \u001b[0;34m=\u001b[0m \u001b[0mUrlRequest\u001b[0m\u001b[0;34m(\u001b[0m\u001b[0murl\u001b[0m\u001b[0;34m)\u001b[0m\u001b[0;34m\u001b[0m\u001b[0m\n\u001b[0m\u001b[1;32m     63\u001b[0m                         \u001b[0;32mif\u001b[0m\u001b[0;34m(\u001b[0m\u001b[0mfull_page\u001b[0m \u001b[0;34m!=\u001b[0m \u001b[0;36m404\u001b[0m\u001b[0;34m)\u001b[0m\u001b[0;34m:\u001b[0m\u001b[0;34m\u001b[0m\u001b[0m\n\u001b[1;32m     64\u001b[0m                                 \u001b[0mfp\u001b[0m\u001b[0;34m=\u001b[0m \u001b[0mfull_page\u001b[0m\u001b[0;34m.\u001b[0m\u001b[0mdecode\u001b[0m\u001b[0;34m(\u001b[0m\u001b[0;34m\"utf-8\"\u001b[0m\u001b[0;34m)\u001b[0m\u001b[0;34m\u001b[0m\u001b[0m\n",
      "\u001b[0;32m/Users/josephbakarji/Documents/Stanford/Courses/CS229 - Machine Learning/project/gitrepo/collectarchive.py\u001b[0m in \u001b[0;36mUrlRequest\u001b[0;34m(URL)\u001b[0m\n\u001b[1;32m     59\u001b[0m \u001b[0;34m\u001b[0m\u001b[0m\n\u001b[1;32m     60\u001b[0m         \u001b[0;32mreturn\u001b[0m \u001b[0mDateArray\u001b[0m\u001b[0;34m\u001b[0m\u001b[0m\n\u001b[0;32m---> 61\u001b[0;31m \u001b[0;34m\u001b[0m\u001b[0m\n\u001b[0m\u001b[1;32m     62\u001b[0m \u001b[0;34m\u001b[0m\u001b[0m\n\u001b[1;32m     63\u001b[0m \u001b[0;32mdef\u001b[0m \u001b[0mUrlRequest\u001b[0m\u001b[0;34m(\u001b[0m\u001b[0mURL\u001b[0m\u001b[0;34m)\u001b[0m\u001b[0;34m:\u001b[0m\u001b[0;34m\u001b[0m\u001b[0m\n",
      "\u001b[0;32m/Library/Frameworks/Python.framework/Versions/3.5/lib/python3.5/urllib/request.py\u001b[0m in \u001b[0;36murlopen\u001b[0;34m(url, data, timeout, cafile, capath, cadefault, context)\u001b[0m\n\u001b[1;32m    160\u001b[0m     \u001b[0;32melse\u001b[0m\u001b[0;34m:\u001b[0m\u001b[0;34m\u001b[0m\u001b[0m\n\u001b[1;32m    161\u001b[0m         \u001b[0mopener\u001b[0m \u001b[0;34m=\u001b[0m \u001b[0m_opener\u001b[0m\u001b[0;34m\u001b[0m\u001b[0m\n\u001b[0;32m--> 162\u001b[0;31m     \u001b[0;32mreturn\u001b[0m \u001b[0mopener\u001b[0m\u001b[0;34m.\u001b[0m\u001b[0mopen\u001b[0m\u001b[0;34m(\u001b[0m\u001b[0murl\u001b[0m\u001b[0;34m,\u001b[0m \u001b[0mdata\u001b[0m\u001b[0;34m,\u001b[0m \u001b[0mtimeout\u001b[0m\u001b[0;34m)\u001b[0m\u001b[0;34m\u001b[0m\u001b[0m\n\u001b[0m\u001b[1;32m    163\u001b[0m \u001b[0;34m\u001b[0m\u001b[0m\n\u001b[1;32m    164\u001b[0m \u001b[0;32mdef\u001b[0m \u001b[0minstall_opener\u001b[0m\u001b[0;34m(\u001b[0m\u001b[0mopener\u001b[0m\u001b[0;34m)\u001b[0m\u001b[0;34m:\u001b[0m\u001b[0;34m\u001b[0m\u001b[0m\n",
      "\u001b[0;32m/Library/Frameworks/Python.framework/Versions/3.5/lib/python3.5/urllib/request.py\u001b[0m in \u001b[0;36mopen\u001b[0;34m(self, fullurl, data, timeout)\u001b[0m\n\u001b[1;32m    463\u001b[0m             \u001b[0mreq\u001b[0m \u001b[0;34m=\u001b[0m \u001b[0mmeth\u001b[0m\u001b[0;34m(\u001b[0m\u001b[0mreq\u001b[0m\u001b[0;34m)\u001b[0m\u001b[0;34m\u001b[0m\u001b[0m\n\u001b[1;32m    464\u001b[0m \u001b[0;34m\u001b[0m\u001b[0m\n\u001b[0;32m--> 465\u001b[0;31m         \u001b[0mresponse\u001b[0m \u001b[0;34m=\u001b[0m \u001b[0mself\u001b[0m\u001b[0;34m.\u001b[0m\u001b[0m_open\u001b[0m\u001b[0;34m(\u001b[0m\u001b[0mreq\u001b[0m\u001b[0;34m,\u001b[0m \u001b[0mdata\u001b[0m\u001b[0;34m)\u001b[0m\u001b[0;34m\u001b[0m\u001b[0m\n\u001b[0m\u001b[1;32m    466\u001b[0m \u001b[0;34m\u001b[0m\u001b[0m\n\u001b[1;32m    467\u001b[0m         \u001b[0;31m# post-process response\u001b[0m\u001b[0;34m\u001b[0m\u001b[0;34m\u001b[0m\u001b[0m\n",
      "\u001b[0;32m/Library/Frameworks/Python.framework/Versions/3.5/lib/python3.5/urllib/request.py\u001b[0m in \u001b[0;36m_open\u001b[0;34m(self, req, data)\u001b[0m\n\u001b[1;32m    481\u001b[0m         \u001b[0mprotocol\u001b[0m \u001b[0;34m=\u001b[0m \u001b[0mreq\u001b[0m\u001b[0;34m.\u001b[0m\u001b[0mtype\u001b[0m\u001b[0;34m\u001b[0m\u001b[0m\n\u001b[1;32m    482\u001b[0m         result = self._call_chain(self.handle_open, protocol, protocol +\n\u001b[0;32m--> 483\u001b[0;31m                                   '_open', req)\n\u001b[0m\u001b[1;32m    484\u001b[0m         \u001b[0;32mif\u001b[0m \u001b[0mresult\u001b[0m\u001b[0;34m:\u001b[0m\u001b[0;34m\u001b[0m\u001b[0m\n\u001b[1;32m    485\u001b[0m             \u001b[0;32mreturn\u001b[0m \u001b[0mresult\u001b[0m\u001b[0;34m\u001b[0m\u001b[0m\n",
      "\u001b[0;32m/Library/Frameworks/Python.framework/Versions/3.5/lib/python3.5/urllib/request.py\u001b[0m in \u001b[0;36m_call_chain\u001b[0;34m(self, chain, kind, meth_name, *args)\u001b[0m\n\u001b[1;32m    441\u001b[0m         \u001b[0;32mfor\u001b[0m \u001b[0mhandler\u001b[0m \u001b[0;32min\u001b[0m \u001b[0mhandlers\u001b[0m\u001b[0;34m:\u001b[0m\u001b[0;34m\u001b[0m\u001b[0m\n\u001b[1;32m    442\u001b[0m             \u001b[0mfunc\u001b[0m \u001b[0;34m=\u001b[0m \u001b[0mgetattr\u001b[0m\u001b[0;34m(\u001b[0m\u001b[0mhandler\u001b[0m\u001b[0;34m,\u001b[0m \u001b[0mmeth_name\u001b[0m\u001b[0;34m)\u001b[0m\u001b[0;34m\u001b[0m\u001b[0m\n\u001b[0;32m--> 443\u001b[0;31m             \u001b[0mresult\u001b[0m \u001b[0;34m=\u001b[0m \u001b[0mfunc\u001b[0m\u001b[0;34m(\u001b[0m\u001b[0;34m*\u001b[0m\u001b[0margs\u001b[0m\u001b[0;34m)\u001b[0m\u001b[0;34m\u001b[0m\u001b[0m\n\u001b[0m\u001b[1;32m    444\u001b[0m             \u001b[0;32mif\u001b[0m \u001b[0mresult\u001b[0m \u001b[0;32mis\u001b[0m \u001b[0;32mnot\u001b[0m \u001b[0;32mNone\u001b[0m\u001b[0;34m:\u001b[0m\u001b[0;34m\u001b[0m\u001b[0m\n\u001b[1;32m    445\u001b[0m                 \u001b[0;32mreturn\u001b[0m \u001b[0mresult\u001b[0m\u001b[0;34m\u001b[0m\u001b[0m\n",
      "\u001b[0;32m/Library/Frameworks/Python.framework/Versions/3.5/lib/python3.5/urllib/request.py\u001b[0m in \u001b[0;36mhttps_open\u001b[0;34m(self, req)\u001b[0m\n\u001b[1;32m   1281\u001b[0m         \u001b[0;32mdef\u001b[0m \u001b[0mhttps_open\u001b[0m\u001b[0;34m(\u001b[0m\u001b[0mself\u001b[0m\u001b[0;34m,\u001b[0m \u001b[0mreq\u001b[0m\u001b[0;34m)\u001b[0m\u001b[0;34m:\u001b[0m\u001b[0;34m\u001b[0m\u001b[0m\n\u001b[1;32m   1282\u001b[0m             return self.do_open(http.client.HTTPSConnection, req,\n\u001b[0;32m-> 1283\u001b[0;31m                 context=self._context, check_hostname=self._check_hostname)\n\u001b[0m\u001b[1;32m   1284\u001b[0m \u001b[0;34m\u001b[0m\u001b[0m\n\u001b[1;32m   1285\u001b[0m         \u001b[0mhttps_request\u001b[0m \u001b[0;34m=\u001b[0m \u001b[0mAbstractHTTPHandler\u001b[0m\u001b[0;34m.\u001b[0m\u001b[0mdo_request_\u001b[0m\u001b[0;34m\u001b[0m\u001b[0m\n",
      "\u001b[0;32m/Library/Frameworks/Python.framework/Versions/3.5/lib/python3.5/urllib/request.py\u001b[0m in \u001b[0;36mdo_open\u001b[0;34m(self, http_class, req, **http_conn_args)\u001b[0m\n\u001b[1;32m   1238\u001b[0m         \u001b[0;32mtry\u001b[0m\u001b[0;34m:\u001b[0m\u001b[0;34m\u001b[0m\u001b[0m\n\u001b[1;32m   1239\u001b[0m             \u001b[0;32mtry\u001b[0m\u001b[0;34m:\u001b[0m\u001b[0;34m\u001b[0m\u001b[0m\n\u001b[0;32m-> 1240\u001b[0;31m                 \u001b[0mh\u001b[0m\u001b[0;34m.\u001b[0m\u001b[0mrequest\u001b[0m\u001b[0;34m(\u001b[0m\u001b[0mreq\u001b[0m\u001b[0;34m.\u001b[0m\u001b[0mget_method\u001b[0m\u001b[0;34m(\u001b[0m\u001b[0;34m)\u001b[0m\u001b[0;34m,\u001b[0m \u001b[0mreq\u001b[0m\u001b[0;34m.\u001b[0m\u001b[0mselector\u001b[0m\u001b[0;34m,\u001b[0m \u001b[0mreq\u001b[0m\u001b[0;34m.\u001b[0m\u001b[0mdata\u001b[0m\u001b[0;34m,\u001b[0m \u001b[0mheaders\u001b[0m\u001b[0;34m)\u001b[0m\u001b[0;34m\u001b[0m\u001b[0m\n\u001b[0m\u001b[1;32m   1241\u001b[0m             \u001b[0;32mexcept\u001b[0m \u001b[0mOSError\u001b[0m \u001b[0;32mas\u001b[0m \u001b[0merr\u001b[0m\u001b[0;34m:\u001b[0m \u001b[0;31m# timeout error\u001b[0m\u001b[0;34m\u001b[0m\u001b[0m\n\u001b[1;32m   1242\u001b[0m                 \u001b[0;32mraise\u001b[0m \u001b[0mURLError\u001b[0m\u001b[0;34m(\u001b[0m\u001b[0merr\u001b[0m\u001b[0;34m)\u001b[0m\u001b[0;34m\u001b[0m\u001b[0m\n",
      "\u001b[0;32m/Library/Frameworks/Python.framework/Versions/3.5/lib/python3.5/http/client.py\u001b[0m in \u001b[0;36mrequest\u001b[0;34m(self, method, url, body, headers)\u001b[0m\n\u001b[1;32m   1081\u001b[0m     \u001b[0;32mdef\u001b[0m \u001b[0mrequest\u001b[0m\u001b[0;34m(\u001b[0m\u001b[0mself\u001b[0m\u001b[0;34m,\u001b[0m \u001b[0mmethod\u001b[0m\u001b[0;34m,\u001b[0m \u001b[0murl\u001b[0m\u001b[0;34m,\u001b[0m \u001b[0mbody\u001b[0m\u001b[0;34m=\u001b[0m\u001b[0;32mNone\u001b[0m\u001b[0;34m,\u001b[0m \u001b[0mheaders\u001b[0m\u001b[0;34m=\u001b[0m\u001b[0;34m{\u001b[0m\u001b[0;34m}\u001b[0m\u001b[0;34m)\u001b[0m\u001b[0;34m:\u001b[0m\u001b[0;34m\u001b[0m\u001b[0m\n\u001b[1;32m   1082\u001b[0m         \u001b[0;34m\"\"\"Send a complete request to the server.\"\"\"\u001b[0m\u001b[0;34m\u001b[0m\u001b[0m\n\u001b[0;32m-> 1083\u001b[0;31m         \u001b[0mself\u001b[0m\u001b[0;34m.\u001b[0m\u001b[0m_send_request\u001b[0m\u001b[0;34m(\u001b[0m\u001b[0mmethod\u001b[0m\u001b[0;34m,\u001b[0m \u001b[0murl\u001b[0m\u001b[0;34m,\u001b[0m \u001b[0mbody\u001b[0m\u001b[0;34m,\u001b[0m \u001b[0mheaders\u001b[0m\u001b[0;34m)\u001b[0m\u001b[0;34m\u001b[0m\u001b[0m\n\u001b[0m\u001b[1;32m   1084\u001b[0m \u001b[0;34m\u001b[0m\u001b[0m\n\u001b[1;32m   1085\u001b[0m     \u001b[0;32mdef\u001b[0m \u001b[0m_set_content_length\u001b[0m\u001b[0;34m(\u001b[0m\u001b[0mself\u001b[0m\u001b[0;34m,\u001b[0m \u001b[0mbody\u001b[0m\u001b[0;34m,\u001b[0m \u001b[0mmethod\u001b[0m\u001b[0;34m)\u001b[0m\u001b[0;34m:\u001b[0m\u001b[0;34m\u001b[0m\u001b[0m\n",
      "\u001b[0;32m/Library/Frameworks/Python.framework/Versions/3.5/lib/python3.5/http/client.py\u001b[0m in \u001b[0;36m_send_request\u001b[0;34m(self, method, url, body, headers)\u001b[0m\n\u001b[1;32m   1126\u001b[0m             \u001b[0;31m# default charset of iso-8859-1.\u001b[0m\u001b[0;34m\u001b[0m\u001b[0;34m\u001b[0m\u001b[0m\n\u001b[1;32m   1127\u001b[0m             \u001b[0mbody\u001b[0m \u001b[0;34m=\u001b[0m \u001b[0mbody\u001b[0m\u001b[0;34m.\u001b[0m\u001b[0mencode\u001b[0m\u001b[0;34m(\u001b[0m\u001b[0;34m'iso-8859-1'\u001b[0m\u001b[0;34m)\u001b[0m\u001b[0;34m\u001b[0m\u001b[0m\n\u001b[0;32m-> 1128\u001b[0;31m         \u001b[0mself\u001b[0m\u001b[0;34m.\u001b[0m\u001b[0mendheaders\u001b[0m\u001b[0;34m(\u001b[0m\u001b[0mbody\u001b[0m\u001b[0;34m)\u001b[0m\u001b[0;34m\u001b[0m\u001b[0m\n\u001b[0m\u001b[1;32m   1129\u001b[0m \u001b[0;34m\u001b[0m\u001b[0m\n\u001b[1;32m   1130\u001b[0m     \u001b[0;32mdef\u001b[0m \u001b[0mgetresponse\u001b[0m\u001b[0;34m(\u001b[0m\u001b[0mself\u001b[0m\u001b[0;34m)\u001b[0m\u001b[0;34m:\u001b[0m\u001b[0;34m\u001b[0m\u001b[0m\n",
      "\u001b[0;32m/Library/Frameworks/Python.framework/Versions/3.5/lib/python3.5/http/client.py\u001b[0m in \u001b[0;36mendheaders\u001b[0;34m(self, message_body)\u001b[0m\n\u001b[1;32m   1077\u001b[0m         \u001b[0;32melse\u001b[0m\u001b[0;34m:\u001b[0m\u001b[0;34m\u001b[0m\u001b[0m\n\u001b[1;32m   1078\u001b[0m             \u001b[0;32mraise\u001b[0m \u001b[0mCannotSendHeader\u001b[0m\u001b[0;34m(\u001b[0m\u001b[0;34m)\u001b[0m\u001b[0;34m\u001b[0m\u001b[0m\n\u001b[0;32m-> 1079\u001b[0;31m         \u001b[0mself\u001b[0m\u001b[0;34m.\u001b[0m\u001b[0m_send_output\u001b[0m\u001b[0;34m(\u001b[0m\u001b[0mmessage_body\u001b[0m\u001b[0;34m)\u001b[0m\u001b[0;34m\u001b[0m\u001b[0m\n\u001b[0m\u001b[1;32m   1080\u001b[0m \u001b[0;34m\u001b[0m\u001b[0m\n\u001b[1;32m   1081\u001b[0m     \u001b[0;32mdef\u001b[0m \u001b[0mrequest\u001b[0m\u001b[0;34m(\u001b[0m\u001b[0mself\u001b[0m\u001b[0;34m,\u001b[0m \u001b[0mmethod\u001b[0m\u001b[0;34m,\u001b[0m \u001b[0murl\u001b[0m\u001b[0;34m,\u001b[0m \u001b[0mbody\u001b[0m\u001b[0;34m=\u001b[0m\u001b[0;32mNone\u001b[0m\u001b[0;34m,\u001b[0m \u001b[0mheaders\u001b[0m\u001b[0;34m=\u001b[0m\u001b[0;34m{\u001b[0m\u001b[0;34m}\u001b[0m\u001b[0;34m)\u001b[0m\u001b[0;34m:\u001b[0m\u001b[0;34m\u001b[0m\u001b[0m\n",
      "\u001b[0;32m/Library/Frameworks/Python.framework/Versions/3.5/lib/python3.5/http/client.py\u001b[0m in \u001b[0;36m_send_output\u001b[0;34m(self, message_body)\u001b[0m\n\u001b[1;32m    909\u001b[0m         \u001b[0;32mdel\u001b[0m \u001b[0mself\u001b[0m\u001b[0;34m.\u001b[0m\u001b[0m_buffer\u001b[0m\u001b[0;34m[\u001b[0m\u001b[0;34m:\u001b[0m\u001b[0;34m]\u001b[0m\u001b[0;34m\u001b[0m\u001b[0m\n\u001b[1;32m    910\u001b[0m \u001b[0;34m\u001b[0m\u001b[0m\n\u001b[0;32m--> 911\u001b[0;31m         \u001b[0mself\u001b[0m\u001b[0;34m.\u001b[0m\u001b[0msend\u001b[0m\u001b[0;34m(\u001b[0m\u001b[0mmsg\u001b[0m\u001b[0;34m)\u001b[0m\u001b[0;34m\u001b[0m\u001b[0m\n\u001b[0m\u001b[1;32m    912\u001b[0m         \u001b[0;32mif\u001b[0m \u001b[0mmessage_body\u001b[0m \u001b[0;32mis\u001b[0m \u001b[0;32mnot\u001b[0m \u001b[0;32mNone\u001b[0m\u001b[0;34m:\u001b[0m\u001b[0;34m\u001b[0m\u001b[0m\n\u001b[1;32m    913\u001b[0m             \u001b[0mself\u001b[0m\u001b[0;34m.\u001b[0m\u001b[0msend\u001b[0m\u001b[0;34m(\u001b[0m\u001b[0mmessage_body\u001b[0m\u001b[0;34m)\u001b[0m\u001b[0;34m\u001b[0m\u001b[0m\n",
      "\u001b[0;32m/Library/Frameworks/Python.framework/Versions/3.5/lib/python3.5/http/client.py\u001b[0m in \u001b[0;36msend\u001b[0;34m(self, data)\u001b[0m\n\u001b[1;32m    852\u001b[0m         \u001b[0;32mif\u001b[0m \u001b[0mself\u001b[0m\u001b[0;34m.\u001b[0m\u001b[0msock\u001b[0m \u001b[0;32mis\u001b[0m \u001b[0;32mNone\u001b[0m\u001b[0;34m:\u001b[0m\u001b[0;34m\u001b[0m\u001b[0m\n\u001b[1;32m    853\u001b[0m             \u001b[0;32mif\u001b[0m \u001b[0mself\u001b[0m\u001b[0;34m.\u001b[0m\u001b[0mauto_open\u001b[0m\u001b[0;34m:\u001b[0m\u001b[0;34m\u001b[0m\u001b[0m\n\u001b[0;32m--> 854\u001b[0;31m                 \u001b[0mself\u001b[0m\u001b[0;34m.\u001b[0m\u001b[0mconnect\u001b[0m\u001b[0;34m(\u001b[0m\u001b[0;34m)\u001b[0m\u001b[0;34m\u001b[0m\u001b[0m\n\u001b[0m\u001b[1;32m    855\u001b[0m             \u001b[0;32melse\u001b[0m\u001b[0;34m:\u001b[0m\u001b[0;34m\u001b[0m\u001b[0m\n\u001b[1;32m    856\u001b[0m                 \u001b[0;32mraise\u001b[0m \u001b[0mNotConnected\u001b[0m\u001b[0;34m(\u001b[0m\u001b[0;34m)\u001b[0m\u001b[0;34m\u001b[0m\u001b[0m\n",
      "\u001b[0;32m/Library/Frameworks/Python.framework/Versions/3.5/lib/python3.5/http/client.py\u001b[0m in \u001b[0;36mconnect\u001b[0;34m(self)\u001b[0m\n\u001b[1;32m   1227\u001b[0m             \u001b[0;34m\"Connect to a host on a given (SSL) port.\"\u001b[0m\u001b[0;34m\u001b[0m\u001b[0m\n\u001b[1;32m   1228\u001b[0m \u001b[0;34m\u001b[0m\u001b[0m\n\u001b[0;32m-> 1229\u001b[0;31m             \u001b[0msuper\u001b[0m\u001b[0;34m(\u001b[0m\u001b[0;34m)\u001b[0m\u001b[0;34m.\u001b[0m\u001b[0mconnect\u001b[0m\u001b[0;34m(\u001b[0m\u001b[0;34m)\u001b[0m\u001b[0;34m\u001b[0m\u001b[0m\n\u001b[0m\u001b[1;32m   1230\u001b[0m \u001b[0;34m\u001b[0m\u001b[0m\n\u001b[1;32m   1231\u001b[0m             \u001b[0;32mif\u001b[0m \u001b[0mself\u001b[0m\u001b[0;34m.\u001b[0m\u001b[0m_tunnel_host\u001b[0m\u001b[0;34m:\u001b[0m\u001b[0;34m\u001b[0m\u001b[0m\n",
      "\u001b[0;32m/Library/Frameworks/Python.framework/Versions/3.5/lib/python3.5/http/client.py\u001b[0m in \u001b[0;36mconnect\u001b[0;34m(self)\u001b[0m\n\u001b[1;32m    824\u001b[0m         \u001b[0;34m\"\"\"Connect to the host and port specified in __init__.\"\"\"\u001b[0m\u001b[0;34m\u001b[0m\u001b[0m\n\u001b[1;32m    825\u001b[0m         self.sock = self._create_connection(\n\u001b[0;32m--> 826\u001b[0;31m             (self.host,self.port), self.timeout, self.source_address)\n\u001b[0m\u001b[1;32m    827\u001b[0m         \u001b[0mself\u001b[0m\u001b[0;34m.\u001b[0m\u001b[0msock\u001b[0m\u001b[0;34m.\u001b[0m\u001b[0msetsockopt\u001b[0m\u001b[0;34m(\u001b[0m\u001b[0msocket\u001b[0m\u001b[0;34m.\u001b[0m\u001b[0mIPPROTO_TCP\u001b[0m\u001b[0;34m,\u001b[0m \u001b[0msocket\u001b[0m\u001b[0;34m.\u001b[0m\u001b[0mTCP_NODELAY\u001b[0m\u001b[0;34m,\u001b[0m \u001b[0;36m1\u001b[0m\u001b[0;34m)\u001b[0m\u001b[0;34m\u001b[0m\u001b[0m\n\u001b[1;32m    828\u001b[0m \u001b[0;34m\u001b[0m\u001b[0m\n",
      "\u001b[0;32m/Library/Frameworks/Python.framework/Versions/3.5/lib/python3.5/socket.py\u001b[0m in \u001b[0;36mcreate_connection\u001b[0;34m(address, timeout, source_address)\u001b[0m\n\u001b[1;32m    700\u001b[0m             \u001b[0;32mif\u001b[0m \u001b[0msource_address\u001b[0m\u001b[0;34m:\u001b[0m\u001b[0;34m\u001b[0m\u001b[0m\n\u001b[1;32m    701\u001b[0m                 \u001b[0msock\u001b[0m\u001b[0;34m.\u001b[0m\u001b[0mbind\u001b[0m\u001b[0;34m(\u001b[0m\u001b[0msource_address\u001b[0m\u001b[0;34m)\u001b[0m\u001b[0;34m\u001b[0m\u001b[0m\n\u001b[0;32m--> 702\u001b[0;31m             \u001b[0msock\u001b[0m\u001b[0;34m.\u001b[0m\u001b[0mconnect\u001b[0m\u001b[0;34m(\u001b[0m\u001b[0msa\u001b[0m\u001b[0;34m)\u001b[0m\u001b[0;34m\u001b[0m\u001b[0m\n\u001b[0m\u001b[1;32m    703\u001b[0m             \u001b[0;32mreturn\u001b[0m \u001b[0msock\u001b[0m\u001b[0;34m\u001b[0m\u001b[0m\n\u001b[1;32m    704\u001b[0m \u001b[0;34m\u001b[0m\u001b[0m\n",
      "\u001b[0;31mKeyboardInterrupt\u001b[0m: "
     ]
    }
   ],
   "source": [
    "QueryArticle(\"199505\")"
   ]
  },
  {
   "cell_type": "markdown",
   "metadata": {
    "collapsed": true
   },
   "source": [
    "You can also test your functions here. For example, I want to test my function ensure_dir() to see if adds the archive/fullarticles folders properly:"
   ]
  },
  {
   "cell_type": "code",
   "execution_count": 1,
   "metadata": {
    "collapsed": false
   },
   "outputs": [
    {
     "ename": "NameError",
     "evalue": "name 'ensure_dir' is not defined",
     "output_type": "error",
     "traceback": [
      "\u001b[0;31m---------------------------------------------------------------------------\u001b[0m",
      "\u001b[0;31mNameError\u001b[0m                                 Traceback (most recent call last)",
      "\u001b[0;32m<ipython-input-1-65c4780bd2c0>\u001b[0m in \u001b[0;36m<module>\u001b[0;34m()\u001b[0m\n\u001b[0;32m----> 1\u001b[0;31m \u001b[0mensure_dir\u001b[0m\u001b[0;34m(\u001b[0m\u001b[0;34m\"./archive/\"\u001b[0m\u001b[0;34m)\u001b[0m\u001b[0;34m\u001b[0m\u001b[0m\n\u001b[0m",
      "\u001b[0;31mNameError\u001b[0m: name 'ensure_dir' is not defined"
     ]
    }
   ],
   "source": [
    "ensure_dir(\"./archive/\")"
   ]
  },
  {
   "cell_type": "code",
   "execution_count": null,
   "metadata": {
    "collapsed": true
   },
   "outputs": [],
   "source": []
  }
 ],
 "metadata": {
  "kernelspec": {
   "display_name": "Python 3",
   "language": "python",
   "name": "python3"
  },
  "language_info": {
   "codemirror_mode": {
    "name": "ipython",
    "version": 3
   },
   "file_extension": ".py",
   "mimetype": "text/x-python",
   "name": "python",
   "nbconvert_exporter": "python",
   "pygments_lexer": "ipython3",
   "version": "3.5.1"
  }
 },
 "nbformat": 4,
 "nbformat_minor": 1
}
